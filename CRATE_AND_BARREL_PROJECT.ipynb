{
  "nbformat": 4,
  "nbformat_minor": 0,
  "metadata": {
    "colab": {
      "provenance": [],
      "authorship_tag": "ABX9TyPYEabke6D2bojYxZwnVQ/F",
      "include_colab_link": true
    },
    "kernelspec": {
      "name": "python3",
      "display_name": "Python 3"
    },
    "language_info": {
      "name": "python"
    },
    "accelerator": "GPU",
    "gpuClass": "standard"
  },
  "cells": [
    {
      "cell_type": "markdown",
      "metadata": {
        "id": "view-in-github",
        "colab_type": "text"
      },
      "source": [
        "<a href=\"https://colab.research.google.com/github/Eliasamuneke/Quickstart_lab/blob/main/CRATE_AND_BARREL_PROJECT.ipynb\" target=\"_parent\"><img src=\"https://colab.research.google.com/assets/colab-badge.svg\" alt=\"Open In Colab\"/></a>"
      ]
    },
    {
      "cell_type": "markdown",
      "source": [
        "### Installing and Importng the necessary library"
      ],
      "metadata": {
        "id": "NF1pFYGK_oJZ"
      }
    },
    {
      "cell_type": "code",
      "execution_count": 25,
      "metadata": {
        "id": "CkHTck-Y_R0z"
      },
      "outputs": [],
      "source": [
        "import pandas as pd                                                             # Importing pandas module for reading the dataset\n",
        "import numpy as np                                                              # Importing the numpy module for arry manipulation\n",
        "import seaborn as sns                                                           # Importing seaborn module for graph visualization\n",
        "import matplotlib.pyplot as plt                                                 # Importing matplotlib module for graph visualization\n",
        "from sklearn.model_selection import train_test_split                            # Importing the train_test_split method for data division\n",
        "from sklearn.naive_bayes import GaussianNB                                      # Importing the GaussianNB module for model classifier\n",
        "from sklearn.ensemble import RandomForestClassifier                             # Importing the RandomForestClassifier module for model classifier\n",
        "from sklearn.linear_model import LogisticRegression                             # Importing the LogisticRegression method for model builder\n",
        "from sklearn.model_selection import cross_val_score,StratifiedKFold,KFold,GridSearchCV # Improting module for checking the classifier\n",
        "from sklearn.preprocessing import LabelEncoder                                  # Importing the labelencoder method for labeling the data\n",
        "from sklearn.metrics import roc_auc_score, log_loss                             # Importing the log_loss module for checking the loss \n",
        "from sklearn.metrics import classification_report, confusion_matrix             # Importing the confusion matrix method"
      ]
    },
    {
      "cell_type": "markdown",
      "source": [
        "### Reading the Training dataset"
      ],
      "metadata": {
        "id": "EhtUhH4XAHno"
      }
    },
    {
      "cell_type": "code",
      "source": [
        "df = pd.read_csv(\"/content/train.csv\" ,index_col=0)                      # Reading the training dataset using the read_csv method.            \n",
        "df"
      ],
      "metadata": {
        "colab": {
          "base_uri": "https://localhost:8080/",
          "height": 519
        },
        "id": "nBmjePGL_0FJ",
        "outputId": "dc232920-8a8f-4509-9d9d-5efd2c1fce01"
      },
      "execution_count": 5,
      "outputs": [
        {
          "output_type": "execute_result",
          "data": {
            "text/plain": [
              "       feat_1  feat_2  feat_3  feat_4  feat_5  feat_6  feat_7  feat_8  feat_9  \\\n",
              "id                                                                              \n",
              "1           1       0       0       0       0       0       0       0       0   \n",
              "2           0       0       0       0       0       0       0       1       0   \n",
              "3           0       0       0       0       0       0       0       1       0   \n",
              "4           1       0       0       1       6       1       5       0       0   \n",
              "5           0       0       0       0       0       0       0       0       0   \n",
              "...       ...     ...     ...     ...     ...     ...     ...     ...     ...   \n",
              "61874       1       0       0       1       1       0       0       0       0   \n",
              "61875       4       0       0       0       0       0       0       0       0   \n",
              "61876       0       0       0       0       0       0       0       3       1   \n",
              "61877       1       0       0       0       0       0       0       0       0   \n",
              "61878       0       0       0       0       0       0       0       0       0   \n",
              "\n",
              "       feat_10  ...  feat_85  feat_86  feat_87  feat_88  feat_89  feat_90  \\\n",
              "id              ...                                                         \n",
              "1            0  ...        1        0        0        0        0        0   \n",
              "2            0  ...        0        0        0        0        0        0   \n",
              "3            0  ...        0        0        0        0        0        0   \n",
              "4            1  ...        0        1        2        0        0        0   \n",
              "5            0  ...        1        0        0        0        0        1   \n",
              "...        ...  ...      ...      ...      ...      ...      ...      ...   \n",
              "61874        0  ...        1        0        0        0        0        0   \n",
              "61875        0  ...        0        2        0        0        2        0   \n",
              "61876        0  ...        0        3        1        0        0        0   \n",
              "61877        0  ...        0        0        0        0        1        0   \n",
              "61878        0  ...        0        0        0        0        0        0   \n",
              "\n",
              "       feat_91  feat_92  feat_93   target  \n",
              "id                                         \n",
              "1            0        0        0  Class_1  \n",
              "2            0        0        0  Class_1  \n",
              "3            0        0        0  Class_1  \n",
              "4            0        0        0  Class_1  \n",
              "5            0        0        0  Class_1  \n",
              "...        ...      ...      ...      ...  \n",
              "61874        0        2        0  Class_9  \n",
              "61875        0        1        0  Class_9  \n",
              "61876        0        0        0  Class_9  \n",
              "61877        3       10        0  Class_9  \n",
              "61878        0        2        0  Class_9  \n",
              "\n",
              "[61878 rows x 94 columns]"
            ],
            "text/html": [
              "\n",
              "  <div id=\"df-404094da-9ecc-4df4-9984-71c5606078da\">\n",
              "    <div class=\"colab-df-container\">\n",
              "      <div>\n",
              "<style scoped>\n",
              "    .dataframe tbody tr th:only-of-type {\n",
              "        vertical-align: middle;\n",
              "    }\n",
              "\n",
              "    .dataframe tbody tr th {\n",
              "        vertical-align: top;\n",
              "    }\n",
              "\n",
              "    .dataframe thead th {\n",
              "        text-align: right;\n",
              "    }\n",
              "</style>\n",
              "<table border=\"1\" class=\"dataframe\">\n",
              "  <thead>\n",
              "    <tr style=\"text-align: right;\">\n",
              "      <th></th>\n",
              "      <th>feat_1</th>\n",
              "      <th>feat_2</th>\n",
              "      <th>feat_3</th>\n",
              "      <th>feat_4</th>\n",
              "      <th>feat_5</th>\n",
              "      <th>feat_6</th>\n",
              "      <th>feat_7</th>\n",
              "      <th>feat_8</th>\n",
              "      <th>feat_9</th>\n",
              "      <th>feat_10</th>\n",
              "      <th>...</th>\n",
              "      <th>feat_85</th>\n",
              "      <th>feat_86</th>\n",
              "      <th>feat_87</th>\n",
              "      <th>feat_88</th>\n",
              "      <th>feat_89</th>\n",
              "      <th>feat_90</th>\n",
              "      <th>feat_91</th>\n",
              "      <th>feat_92</th>\n",
              "      <th>feat_93</th>\n",
              "      <th>target</th>\n",
              "    </tr>\n",
              "    <tr>\n",
              "      <th>id</th>\n",
              "      <th></th>\n",
              "      <th></th>\n",
              "      <th></th>\n",
              "      <th></th>\n",
              "      <th></th>\n",
              "      <th></th>\n",
              "      <th></th>\n",
              "      <th></th>\n",
              "      <th></th>\n",
              "      <th></th>\n",
              "      <th></th>\n",
              "      <th></th>\n",
              "      <th></th>\n",
              "      <th></th>\n",
              "      <th></th>\n",
              "      <th></th>\n",
              "      <th></th>\n",
              "      <th></th>\n",
              "      <th></th>\n",
              "      <th></th>\n",
              "      <th></th>\n",
              "    </tr>\n",
              "  </thead>\n",
              "  <tbody>\n",
              "    <tr>\n",
              "      <th>1</th>\n",
              "      <td>1</td>\n",
              "      <td>0</td>\n",
              "      <td>0</td>\n",
              "      <td>0</td>\n",
              "      <td>0</td>\n",
              "      <td>0</td>\n",
              "      <td>0</td>\n",
              "      <td>0</td>\n",
              "      <td>0</td>\n",
              "      <td>0</td>\n",
              "      <td>...</td>\n",
              "      <td>1</td>\n",
              "      <td>0</td>\n",
              "      <td>0</td>\n",
              "      <td>0</td>\n",
              "      <td>0</td>\n",
              "      <td>0</td>\n",
              "      <td>0</td>\n",
              "      <td>0</td>\n",
              "      <td>0</td>\n",
              "      <td>Class_1</td>\n",
              "    </tr>\n",
              "    <tr>\n",
              "      <th>2</th>\n",
              "      <td>0</td>\n",
              "      <td>0</td>\n",
              "      <td>0</td>\n",
              "      <td>0</td>\n",
              "      <td>0</td>\n",
              "      <td>0</td>\n",
              "      <td>0</td>\n",
              "      <td>1</td>\n",
              "      <td>0</td>\n",
              "      <td>0</td>\n",
              "      <td>...</td>\n",
              "      <td>0</td>\n",
              "      <td>0</td>\n",
              "      <td>0</td>\n",
              "      <td>0</td>\n",
              "      <td>0</td>\n",
              "      <td>0</td>\n",
              "      <td>0</td>\n",
              "      <td>0</td>\n",
              "      <td>0</td>\n",
              "      <td>Class_1</td>\n",
              "    </tr>\n",
              "    <tr>\n",
              "      <th>3</th>\n",
              "      <td>0</td>\n",
              "      <td>0</td>\n",
              "      <td>0</td>\n",
              "      <td>0</td>\n",
              "      <td>0</td>\n",
              "      <td>0</td>\n",
              "      <td>0</td>\n",
              "      <td>1</td>\n",
              "      <td>0</td>\n",
              "      <td>0</td>\n",
              "      <td>...</td>\n",
              "      <td>0</td>\n",
              "      <td>0</td>\n",
              "      <td>0</td>\n",
              "      <td>0</td>\n",
              "      <td>0</td>\n",
              "      <td>0</td>\n",
              "      <td>0</td>\n",
              "      <td>0</td>\n",
              "      <td>0</td>\n",
              "      <td>Class_1</td>\n",
              "    </tr>\n",
              "    <tr>\n",
              "      <th>4</th>\n",
              "      <td>1</td>\n",
              "      <td>0</td>\n",
              "      <td>0</td>\n",
              "      <td>1</td>\n",
              "      <td>6</td>\n",
              "      <td>1</td>\n",
              "      <td>5</td>\n",
              "      <td>0</td>\n",
              "      <td>0</td>\n",
              "      <td>1</td>\n",
              "      <td>...</td>\n",
              "      <td>0</td>\n",
              "      <td>1</td>\n",
              "      <td>2</td>\n",
              "      <td>0</td>\n",
              "      <td>0</td>\n",
              "      <td>0</td>\n",
              "      <td>0</td>\n",
              "      <td>0</td>\n",
              "      <td>0</td>\n",
              "      <td>Class_1</td>\n",
              "    </tr>\n",
              "    <tr>\n",
              "      <th>5</th>\n",
              "      <td>0</td>\n",
              "      <td>0</td>\n",
              "      <td>0</td>\n",
              "      <td>0</td>\n",
              "      <td>0</td>\n",
              "      <td>0</td>\n",
              "      <td>0</td>\n",
              "      <td>0</td>\n",
              "      <td>0</td>\n",
              "      <td>0</td>\n",
              "      <td>...</td>\n",
              "      <td>1</td>\n",
              "      <td>0</td>\n",
              "      <td>0</td>\n",
              "      <td>0</td>\n",
              "      <td>0</td>\n",
              "      <td>1</td>\n",
              "      <td>0</td>\n",
              "      <td>0</td>\n",
              "      <td>0</td>\n",
              "      <td>Class_1</td>\n",
              "    </tr>\n",
              "    <tr>\n",
              "      <th>...</th>\n",
              "      <td>...</td>\n",
              "      <td>...</td>\n",
              "      <td>...</td>\n",
              "      <td>...</td>\n",
              "      <td>...</td>\n",
              "      <td>...</td>\n",
              "      <td>...</td>\n",
              "      <td>...</td>\n",
              "      <td>...</td>\n",
              "      <td>...</td>\n",
              "      <td>...</td>\n",
              "      <td>...</td>\n",
              "      <td>...</td>\n",
              "      <td>...</td>\n",
              "      <td>...</td>\n",
              "      <td>...</td>\n",
              "      <td>...</td>\n",
              "      <td>...</td>\n",
              "      <td>...</td>\n",
              "      <td>...</td>\n",
              "      <td>...</td>\n",
              "    </tr>\n",
              "    <tr>\n",
              "      <th>61874</th>\n",
              "      <td>1</td>\n",
              "      <td>0</td>\n",
              "      <td>0</td>\n",
              "      <td>1</td>\n",
              "      <td>1</td>\n",
              "      <td>0</td>\n",
              "      <td>0</td>\n",
              "      <td>0</td>\n",
              "      <td>0</td>\n",
              "      <td>0</td>\n",
              "      <td>...</td>\n",
              "      <td>1</td>\n",
              "      <td>0</td>\n",
              "      <td>0</td>\n",
              "      <td>0</td>\n",
              "      <td>0</td>\n",
              "      <td>0</td>\n",
              "      <td>0</td>\n",
              "      <td>2</td>\n",
              "      <td>0</td>\n",
              "      <td>Class_9</td>\n",
              "    </tr>\n",
              "    <tr>\n",
              "      <th>61875</th>\n",
              "      <td>4</td>\n",
              "      <td>0</td>\n",
              "      <td>0</td>\n",
              "      <td>0</td>\n",
              "      <td>0</td>\n",
              "      <td>0</td>\n",
              "      <td>0</td>\n",
              "      <td>0</td>\n",
              "      <td>0</td>\n",
              "      <td>0</td>\n",
              "      <td>...</td>\n",
              "      <td>0</td>\n",
              "      <td>2</td>\n",
              "      <td>0</td>\n",
              "      <td>0</td>\n",
              "      <td>2</td>\n",
              "      <td>0</td>\n",
              "      <td>0</td>\n",
              "      <td>1</td>\n",
              "      <td>0</td>\n",
              "      <td>Class_9</td>\n",
              "    </tr>\n",
              "    <tr>\n",
              "      <th>61876</th>\n",
              "      <td>0</td>\n",
              "      <td>0</td>\n",
              "      <td>0</td>\n",
              "      <td>0</td>\n",
              "      <td>0</td>\n",
              "      <td>0</td>\n",
              "      <td>0</td>\n",
              "      <td>3</td>\n",
              "      <td>1</td>\n",
              "      <td>0</td>\n",
              "      <td>...</td>\n",
              "      <td>0</td>\n",
              "      <td>3</td>\n",
              "      <td>1</td>\n",
              "      <td>0</td>\n",
              "      <td>0</td>\n",
              "      <td>0</td>\n",
              "      <td>0</td>\n",
              "      <td>0</td>\n",
              "      <td>0</td>\n",
              "      <td>Class_9</td>\n",
              "    </tr>\n",
              "    <tr>\n",
              "      <th>61877</th>\n",
              "      <td>1</td>\n",
              "      <td>0</td>\n",
              "      <td>0</td>\n",
              "      <td>0</td>\n",
              "      <td>0</td>\n",
              "      <td>0</td>\n",
              "      <td>0</td>\n",
              "      <td>0</td>\n",
              "      <td>0</td>\n",
              "      <td>0</td>\n",
              "      <td>...</td>\n",
              "      <td>0</td>\n",
              "      <td>0</td>\n",
              "      <td>0</td>\n",
              "      <td>0</td>\n",
              "      <td>1</td>\n",
              "      <td>0</td>\n",
              "      <td>3</td>\n",
              "      <td>10</td>\n",
              "      <td>0</td>\n",
              "      <td>Class_9</td>\n",
              "    </tr>\n",
              "    <tr>\n",
              "      <th>61878</th>\n",
              "      <td>0</td>\n",
              "      <td>0</td>\n",
              "      <td>0</td>\n",
              "      <td>0</td>\n",
              "      <td>0</td>\n",
              "      <td>0</td>\n",
              "      <td>0</td>\n",
              "      <td>0</td>\n",
              "      <td>0</td>\n",
              "      <td>0</td>\n",
              "      <td>...</td>\n",
              "      <td>0</td>\n",
              "      <td>0</td>\n",
              "      <td>0</td>\n",
              "      <td>0</td>\n",
              "      <td>0</td>\n",
              "      <td>0</td>\n",
              "      <td>0</td>\n",
              "      <td>2</td>\n",
              "      <td>0</td>\n",
              "      <td>Class_9</td>\n",
              "    </tr>\n",
              "  </tbody>\n",
              "</table>\n",
              "<p>61878 rows × 94 columns</p>\n",
              "</div>\n",
              "      <button class=\"colab-df-convert\" onclick=\"convertToInteractive('df-404094da-9ecc-4df4-9984-71c5606078da')\"\n",
              "              title=\"Convert this dataframe to an interactive table.\"\n",
              "              style=\"display:none;\">\n",
              "        \n",
              "  <svg xmlns=\"http://www.w3.org/2000/svg\" height=\"24px\"viewBox=\"0 0 24 24\"\n",
              "       width=\"24px\">\n",
              "    <path d=\"M0 0h24v24H0V0z\" fill=\"none\"/>\n",
              "    <path d=\"M18.56 5.44l.94 2.06.94-2.06 2.06-.94-2.06-.94-.94-2.06-.94 2.06-2.06.94zm-11 1L8.5 8.5l.94-2.06 2.06-.94-2.06-.94L8.5 2.5l-.94 2.06-2.06.94zm10 10l.94 2.06.94-2.06 2.06-.94-2.06-.94-.94-2.06-.94 2.06-2.06.94z\"/><path d=\"M17.41 7.96l-1.37-1.37c-.4-.4-.92-.59-1.43-.59-.52 0-1.04.2-1.43.59L10.3 9.45l-7.72 7.72c-.78.78-.78 2.05 0 2.83L4 21.41c.39.39.9.59 1.41.59.51 0 1.02-.2 1.41-.59l7.78-7.78 2.81-2.81c.8-.78.8-2.07 0-2.86zM5.41 20L4 18.59l7.72-7.72 1.47 1.35L5.41 20z\"/>\n",
              "  </svg>\n",
              "      </button>\n",
              "      \n",
              "  <style>\n",
              "    .colab-df-container {\n",
              "      display:flex;\n",
              "      flex-wrap:wrap;\n",
              "      gap: 12px;\n",
              "    }\n",
              "\n",
              "    .colab-df-convert {\n",
              "      background-color: #E8F0FE;\n",
              "      border: none;\n",
              "      border-radius: 50%;\n",
              "      cursor: pointer;\n",
              "      display: none;\n",
              "      fill: #1967D2;\n",
              "      height: 32px;\n",
              "      padding: 0 0 0 0;\n",
              "      width: 32px;\n",
              "    }\n",
              "\n",
              "    .colab-df-convert:hover {\n",
              "      background-color: #E2EBFA;\n",
              "      box-shadow: 0px 1px 2px rgba(60, 64, 67, 0.3), 0px 1px 3px 1px rgba(60, 64, 67, 0.15);\n",
              "      fill: #174EA6;\n",
              "    }\n",
              "\n",
              "    [theme=dark] .colab-df-convert {\n",
              "      background-color: #3B4455;\n",
              "      fill: #D2E3FC;\n",
              "    }\n",
              "\n",
              "    [theme=dark] .colab-df-convert:hover {\n",
              "      background-color: #434B5C;\n",
              "      box-shadow: 0px 1px 3px 1px rgba(0, 0, 0, 0.15);\n",
              "      filter: drop-shadow(0px 1px 2px rgba(0, 0, 0, 0.3));\n",
              "      fill: #FFFFFF;\n",
              "    }\n",
              "  </style>\n",
              "\n",
              "      <script>\n",
              "        const buttonEl =\n",
              "          document.querySelector('#df-404094da-9ecc-4df4-9984-71c5606078da button.colab-df-convert');\n",
              "        buttonEl.style.display =\n",
              "          google.colab.kernel.accessAllowed ? 'block' : 'none';\n",
              "\n",
              "        async function convertToInteractive(key) {\n",
              "          const element = document.querySelector('#df-404094da-9ecc-4df4-9984-71c5606078da');\n",
              "          const dataTable =\n",
              "            await google.colab.kernel.invokeFunction('convertToInteractive',\n",
              "                                                     [key], {});\n",
              "          if (!dataTable) return;\n",
              "\n",
              "          const docLinkHtml = 'Like what you see? Visit the ' +\n",
              "            '<a target=\"_blank\" href=https://colab.research.google.com/notebooks/data_table.ipynb>data table notebook</a>'\n",
              "            + ' to learn more about interactive tables.';\n",
              "          element.innerHTML = '';\n",
              "          dataTable['output_type'] = 'display_data';\n",
              "          await google.colab.output.renderOutput(dataTable, element);\n",
              "          const docLink = document.createElement('div');\n",
              "          docLink.innerHTML = docLinkHtml;\n",
              "          element.appendChild(docLink);\n",
              "        }\n",
              "      </script>\n",
              "    </div>\n",
              "  </div>\n",
              "  "
            ]
          },
          "metadata": {},
          "execution_count": 5
        }
      ]
    },
    {
      "cell_type": "code",
      "source": [
        "df['target'].value_counts()                        # Checking the target column with counting value"
      ],
      "metadata": {
        "colab": {
          "base_uri": "https://localhost:8080/"
        },
        "id": "T468mB-O_0Hu",
        "outputId": "0213975e-920b-44c2-a265-7caebc7b32c3"
      },
      "execution_count": 6,
      "outputs": [
        {
          "output_type": "execute_result",
          "data": {
            "text/plain": [
              "Class_2    16122\n",
              "Class_6    14135\n",
              "Class_8     8464\n",
              "Class_3     8004\n",
              "Class_9     4955\n",
              "Class_7     2839\n",
              "Class_5     2739\n",
              "Class_4     2691\n",
              "Class_1     1929\n",
              "Name: target, dtype: int64"
            ]
          },
          "metadata": {},
          "execution_count": 6
        }
      ]
    },
    {
      "cell_type": "code",
      "source": [
        "df.shape                                          # Checking the shape of dataset"
      ],
      "metadata": {
        "id": "qwd91DeO_0NE",
        "colab": {
          "base_uri": "https://localhost:8080/"
        },
        "outputId": "70fcea9b-3d69-4cdb-8b2e-c3161905f94c"
      },
      "execution_count": 7,
      "outputs": [
        {
          "output_type": "execute_result",
          "data": {
            "text/plain": [
              "(61878, 94)"
            ]
          },
          "metadata": {},
          "execution_count": 7
        }
      ]
    },
    {
      "cell_type": "code",
      "source": [
        "df[\"target\"].value_counts().plot.bar()                    # Plotting the bargraph of target column"
      ],
      "metadata": {
        "colab": {
          "base_uri": "https://localhost:8080/",
          "height": 311
        },
        "id": "_8aHwcYH-mal",
        "outputId": "c8fb06cb-da98-4d78-8e07-977856419db7"
      },
      "execution_count": 8,
      "outputs": [
        {
          "output_type": "execute_result",
          "data": {
            "text/plain": [
              "<matplotlib.axes._subplots.AxesSubplot at 0x7f97b02d3950>"
            ]
          },
          "metadata": {},
          "execution_count": 8
        },
        {
          "output_type": "display_data",
          "data": {
            "text/plain": [
              "<Figure size 432x288 with 1 Axes>"
            ],
            "image/png": "[encoded data removed]"
          },
          "metadata": {
            "needs_background": "light"
          }
        }
      ]
    },
    {
      "cell_type": "markdown",
      "source": [
        "### Dividing the training data as feature and target variables"
      ],
      "metadata": {
        "id": "ajs7Gh08gXGN"
      }
    },
    {
      "cell_type": "code",
      "source": [
        "X_train = df.drop('target',axis=1)                       # Dropping the target column from the training dataset\n",
        "y_train = df['target']                                   # Storing the target column into the y variable"
      ],
      "metadata": {
        "id": "cRBbYagU_0Ka"
      },
      "execution_count": 33,
      "outputs": []
    },
    {
      "cell_type": "markdown",
      "source": [
        "### Doing Label encoding"
      ],
      "metadata": {
        "id": "50-zQQ9GtOFr"
      }
    },
    {
      "cell_type": "code",
      "source": [
        "le = LabelEncoder()                             # Labelencoder method\n",
        "le_y = le.fit_transform(y_train)                      # calling fit_transforming method and passing y lebel "
      ],
      "metadata": {
        "id": "P5naKinw_0Pm"
      },
      "execution_count": 34,
      "outputs": []
    },
    {
      "cell_type": "markdown",
      "source": [
        "### Building binary classifer"
      ],
      "metadata": {
        "id": "I3MXYLz8tlvf"
      }
    },
    {
      "cell_type": "code",
      "source": [
        "logreg = LogisticRegression(multi_class= 'auto')         \n",
        "logreg.fit(X, le_y)                                 # Training the tarin dataset using the fit method"
      ],
      "metadata": {
        "id": "DefrL8eT_0S2",
        "colab": {
          "base_uri": "https://localhost:8080/"
        },
        "outputId": "6a9d2bbf-bef5-43d2-84d1-792391ed5192"
      },
      "execution_count": 35,
      "outputs": [
        {
          "output_type": "stream",
          "name": "stderr",
          "text": [
            "/usr/local/lib/python3.7/dist-packages/sklearn/linear_model/_logistic.py:818: ConvergenceWarning: lbfgs failed to converge (status=1):\n",
            "STOP: TOTAL NO. of ITERATIONS REACHED LIMIT.\n",
            "\n",
            "Increase the number of iterations (max_iter) or scale the data as shown in:\n",
            "    https://scikit-learn.org/stable/modules/preprocessing.html\n",
            "Please also refer to the documentation for alternative solver options:\n",
            "    https://scikit-learn.org/stable/modules/linear_model.html#logistic-regression\n",
            "  extra_warning_msg=_LOGISTIC_SOLVER_CONVERGENCE_MSG,\n"
          ]
        },
        {
          "output_type": "execute_result",
          "data": {
            "text/plain": [
              "LogisticRegression()"
            ]
          },
          "metadata": {},
          "execution_count": 35
        }
      ]
    },
    {
      "cell_type": "markdown",
      "source": [
        "### Reading the test dataset"
      ],
      "metadata": {
        "id": "-zq0xCvdALj1"
      }
    },
    {
      "cell_type": "code",
      "source": [
        "X_test = pd.read_csv(\"/content/test.csv\", index_col=0)         # Reading the test dataset file using read_csv method\n",
        "pred_y = logreg.predict_proba(X_test)                            # Preditcting the values using the test dataset"
      ],
      "metadata": {
        "id": "qxaILjs49C8J"
      },
      "execution_count": 37,
      "outputs": []
    },
    {
      "cell_type": "code",
      "source": [
        "pred_y"
      ],
      "metadata": {
        "colab": {
          "base_uri": "https://localhost:8080/"
        },
        "id": "JVyFy9IW9C-0",
        "outputId": "d6c06d95-6281-4409-ba41-5a515fdbf26f"
      },
      "execution_count": 38,
      "outputs": [
        {
          "output_type": "execute_result",
          "data": {
            "text/plain": [
              "array([[7.17312340e-06, 1.54756752e-01, 2.30839329e-01, ...,\n",
              "        4.23559832e-03, 2.08792280e-07, 8.28972137e-09],\n",
              "       [9.67156132e-04, 1.52446576e-05, 8.94441769e-08, ...,\n",
              "        1.16726254e-04, 2.95602485e-01, 1.16289124e-03],\n",
              "       [1.79183195e-06, 9.85916842e-08, 2.60037558e-08, ...,\n",
              "        8.06293960e-05, 6.57981012e-05, 4.32165433e-07],\n",
              "       ...,\n",
              "       [9.07696811e-15, 2.40801568e-01, 5.36829451e-01, ...,\n",
              "        1.46098182e-03, 8.64031558e-12, 3.25838886e-13],\n",
              "       [5.04170852e-06, 7.42613584e-01, 1.30797603e-01, ...,\n",
              "        6.73535012e-04, 3.23430442e-05, 9.56371635e-06],\n",
              "       [1.95366250e-04, 4.45547644e-01, 4.25873357e-01, ...,\n",
              "        5.31901549e-02, 1.89281653e-05, 3.90675340e-05]])"
            ]
          },
          "metadata": {},
          "execution_count": 38
        }
      ]
    },
    {
      "cell_type": "code",
      "source": [
        "list(le.classes_)            # Printing the predicted calss"
      ],
      "metadata": {
        "colab": {
          "base_uri": "https://localhost:8080/"
        },
        "id": "uQDZL3yB9DBc",
        "outputId": "6c11912d-c418-4ec6-d60f-e76619eed2a5"
      },
      "execution_count": 39,
      "outputs": [
        {
          "output_type": "execute_result",
          "data": {
            "text/plain": [
              "['Class_1',\n",
              " 'Class_2',\n",
              " 'Class_3',\n",
              " 'Class_4',\n",
              " 'Class_5',\n",
              " 'Class_6',\n",
              " 'Class_7',\n",
              " 'Class_8',\n",
              " 'Class_9']"
            ]
          },
          "metadata": {},
          "execution_count": 39
        }
      ]
    },
    {
      "cell_type": "code",
      "source": [
        "pred_prob = pd.DataFrame(pred_y,columns=list(le.classes_))         # Printing the predicted classified class with values\n",
        "pred_prob"
      ],
      "metadata": {
        "colab": {
          "base_uri": "https://localhost:8080/",
          "height": 467
        },
        "id": "acGI8KGG9DEO",
        "outputId": "32c25af4-0a20-4949-92a0-d0a213e6f6c3"
      },
      "execution_count": 40,
      "outputs": [
        {
          "output_type": "execute_result",
          "data": {
            "text/plain": [
              "             Class_1       Class_2       Class_3       Class_4       Class_5  \\\n",
              "0       7.173123e-06  1.547568e-01  2.308393e-01  6.101544e-01  8.665241e-14   \n",
              "1       9.671561e-04  1.524466e-05  8.944418e-08  1.384590e-08  1.040615e-07   \n",
              "2       1.791832e-06  9.859168e-08  2.600376e-08  7.622446e-10  1.047403e-09   \n",
              "3       2.507928e-10  7.054741e-01  2.875434e-01  6.982262e-03  3.192955e-09   \n",
              "4       6.738376e-01  4.416671e-07  1.621856e-07  1.148540e-09  8.015383e-11   \n",
              "...              ...           ...           ...           ...           ...   \n",
              "144363  2.648479e-01  1.223754e-02  2.872340e-03  2.595149e-03  9.371955e-06   \n",
              "144364  2.901184e-03  3.474019e-01  3.560293e-01  1.798788e-01  1.029047e-06   \n",
              "144365  9.076968e-15  2.408016e-01  5.368295e-01  2.209079e-01  2.009070e-18   \n",
              "144366  5.041709e-06  7.426136e-01  1.307976e-01  1.258388e-01  9.202009e-06   \n",
              "144367  1.953663e-04  4.455476e-01  4.258734e-01  7.349752e-02  1.600825e-09   \n",
              "\n",
              "             Class_6       Class_7       Class_8       Class_9  \n",
              "0       6.485298e-06  4.235598e-03  2.087923e-07  8.289721e-09  \n",
              "1       7.021353e-01  1.167263e-04  2.956025e-01  1.162891e-03  \n",
              "2       9.998512e-01  8.062940e-05  6.579810e-05  4.321654e-07  \n",
              "3       6.923606e-09  6.117293e-08  1.776167e-09  1.415408e-07  \n",
              "4       4.202979e-03  1.089662e-03  4.420989e-02  2.766593e-01  \n",
              "...              ...           ...           ...           ...  \n",
              "144363  3.145951e-01  2.241221e-01  6.365408e-02  1.150664e-01  \n",
              "144364  2.064139e-03  1.113842e-01  2.656190e-04  7.384261e-05  \n",
              "144365  1.130039e-07  1.460982e-03  8.640316e-12  3.258389e-13  \n",
              "144366  2.029080e-05  6.735350e-04  3.234304e-05  9.563716e-06  \n",
              "144367  1.637961e-03  5.319015e-02  1.892817e-05  3.906753e-05  \n",
              "\n",
              "[144368 rows x 9 columns]"
            ],
            "text/html": [
              "\n",
              "  <div id=\"df-1877b881-1b3a-44b5-841d-f8332f3f1b43\">\n",
              "    <div class=\"colab-df-container\">\n",
              "      <div>\n",
              "<style scoped>\n",
              "    .dataframe tbody tr th:only-of-type {\n",
              "        vertical-align: middle;\n",
              "    }\n",
              "\n",
              "    .dataframe tbody tr th {\n",
              "        vertical-align: top;\n",
              "    }\n",
              "\n",
              "    .dataframe thead th {\n",
              "        text-align: right;\n",
              "    }\n",
              "</style>\n",
              "<table border=\"1\" class=\"dataframe\">\n",
              "  <thead>\n",
              "    <tr style=\"text-align: right;\">\n",
              "      <th></th>\n",
              "      <th>Class_1</th>\n",
              "      <th>Class_2</th>\n",
              "      <th>Class_3</th>\n",
              "      <th>Class_4</th>\n",
              "      <th>Class_5</th>\n",
              "      <th>Class_6</th>\n",
              "      <th>Class_7</th>\n",
              "      <th>Class_8</th>\n",
              "      <th>Class_9</th>\n",
              "    </tr>\n",
              "  </thead>\n",
              "  <tbody>\n",
              "    <tr>\n",
              "      <th>0</th>\n",
              "      <td>7.173123e-06</td>\n",
              "      <td>1.547568e-01</td>\n",
              "      <td>2.308393e-01</td>\n",
              "      <td>6.101544e-01</td>\n",
              "      <td>8.665241e-14</td>\n",
              "      <td>6.485298e-06</td>\n",
              "      <td>4.235598e-03</td>\n",
              "      <td>2.087923e-07</td>\n",
              "      <td>8.289721e-09</td>\n",
              "    </tr>\n",
              "    <tr>\n",
              "      <th>1</th>\n",
              "      <td>9.671561e-04</td>\n",
              "      <td>1.524466e-05</td>\n",
              "      <td>8.944418e-08</td>\n",
              "      <td>1.384590e-08</td>\n",
              "      <td>1.040615e-07</td>\n",
              "      <td>7.021353e-01</td>\n",
              "      <td>1.167263e-04</td>\n",
              "      <td>2.956025e-01</td>\n",
              "      <td>1.162891e-03</td>\n",
              "    </tr>\n",
              "    <tr>\n",
              "      <th>2</th>\n",
              "      <td>1.791832e-06</td>\n",
              "      <td>9.859168e-08</td>\n",
              "      <td>2.600376e-08</td>\n",
              "      <td>7.622446e-10</td>\n",
              "      <td>1.047403e-09</td>\n",
              "      <td>9.998512e-01</td>\n",
              "      <td>8.062940e-05</td>\n",
              "      <td>6.579810e-05</td>\n",
              "      <td>4.321654e-07</td>\n",
              "    </tr>\n",
              "    <tr>\n",
              "      <th>3</th>\n",
              "      <td>2.507928e-10</td>\n",
              "      <td>7.054741e-01</td>\n",
              "      <td>2.875434e-01</td>\n",
              "      <td>6.982262e-03</td>\n",
              "      <td>3.192955e-09</td>\n",
              "      <td>6.923606e-09</td>\n",
              "      <td>6.117293e-08</td>\n",
              "      <td>1.776167e-09</td>\n",
              "      <td>1.415408e-07</td>\n",
              "    </tr>\n",
              "    <tr>\n",
              "      <th>4</th>\n",
              "      <td>6.738376e-01</td>\n",
              "      <td>4.416671e-07</td>\n",
              "      <td>1.621856e-07</td>\n",
              "      <td>1.148540e-09</td>\n",
              "      <td>8.015383e-11</td>\n",
              "      <td>4.202979e-03</td>\n",
              "      <td>1.089662e-03</td>\n",
              "      <td>4.420989e-02</td>\n",
              "      <td>2.766593e-01</td>\n",
              "    </tr>\n",
              "    <tr>\n",
              "      <th>...</th>\n",
              "      <td>...</td>\n",
              "      <td>...</td>\n",
              "      <td>...</td>\n",
              "      <td>...</td>\n",
              "      <td>...</td>\n",
              "      <td>...</td>\n",
              "      <td>...</td>\n",
              "      <td>...</td>\n",
              "      <td>...</td>\n",
              "    </tr>\n",
              "    <tr>\n",
              "      <th>144363</th>\n",
              "      <td>2.648479e-01</td>\n",
              "      <td>1.223754e-02</td>\n",
              "      <td>2.872340e-03</td>\n",
              "      <td>2.595149e-03</td>\n",
              "      <td>9.371955e-06</td>\n",
              "      <td>3.145951e-01</td>\n",
              "      <td>2.241221e-01</td>\n",
              "      <td>6.365408e-02</td>\n",
              "      <td>1.150664e-01</td>\n",
              "    </tr>\n",
              "    <tr>\n",
              "      <th>144364</th>\n",
              "      <td>2.901184e-03</td>\n",
              "      <td>3.474019e-01</td>\n",
              "      <td>3.560293e-01</td>\n",
              "      <td>1.798788e-01</td>\n",
              "      <td>1.029047e-06</td>\n",
              "      <td>2.064139e-03</td>\n",
              "      <td>1.113842e-01</td>\n",
              "      <td>2.656190e-04</td>\n",
              "      <td>7.384261e-05</td>\n",
              "    </tr>\n",
              "    <tr>\n",
              "      <th>144365</th>\n",
              "      <td>9.076968e-15</td>\n",
              "      <td>2.408016e-01</td>\n",
              "      <td>5.368295e-01</td>\n",
              "      <td>2.209079e-01</td>\n",
              "      <td>2.009070e-18</td>\n",
              "      <td>1.130039e-07</td>\n",
              "      <td>1.460982e-03</td>\n",
              "      <td>8.640316e-12</td>\n",
              "      <td>3.258389e-13</td>\n",
              "    </tr>\n",
              "    <tr>\n",
              "      <th>144366</th>\n",
              "      <td>5.041709e-06</td>\n",
              "      <td>7.426136e-01</td>\n",
              "      <td>1.307976e-01</td>\n",
              "      <td>1.258388e-01</td>\n",
              "      <td>9.202009e-06</td>\n",
              "      <td>2.029080e-05</td>\n",
              "      <td>6.735350e-04</td>\n",
              "      <td>3.234304e-05</td>\n",
              "      <td>9.563716e-06</td>\n",
              "    </tr>\n",
              "    <tr>\n",
              "      <th>144367</th>\n",
              "      <td>1.953663e-04</td>\n",
              "      <td>4.455476e-01</td>\n",
              "      <td>4.258734e-01</td>\n",
              "      <td>7.349752e-02</td>\n",
              "      <td>1.600825e-09</td>\n",
              "      <td>1.637961e-03</td>\n",
              "      <td>5.319015e-02</td>\n",
              "      <td>1.892817e-05</td>\n",
              "      <td>3.906753e-05</td>\n",
              "    </tr>\n",
              "  </tbody>\n",
              "</table>\n",
              "<p>144368 rows × 9 columns</p>\n",
              "</div>\n",
              "      <button class=\"colab-df-convert\" onclick=\"convertToInteractive('df-1877b881-1b3a-44b5-841d-f8332f3f1b43')\"\n",
              "              title=\"Convert this dataframe to an interactive table.\"\n",
              "              style=\"display:none;\">\n",
              "        \n",
              "  <svg xmlns=\"http://www.w3.org/2000/svg\" height=\"24px\"viewBox=\"0 0 24 24\"\n",
              "       width=\"24px\">\n",
              "    <path d=\"M0 0h24v24H0V0z\" fill=\"none\"/>\n",
              "    <path d=\"M18.56 5.44l.94 2.06.94-2.06 2.06-.94-2.06-.94-.94-2.06-.94 2.06-2.06.94zm-11 1L8.5 8.5l.94-2.06 2.06-.94-2.06-.94L8.5 2.5l-.94 2.06-2.06.94zm10 10l.94 2.06.94-2.06 2.06-.94-2.06-.94-.94-2.06-.94 2.06-2.06.94z\"/><path d=\"M17.41 7.96l-1.37-1.37c-.4-.4-.92-.59-1.43-.59-.52 0-1.04.2-1.43.59L10.3 9.45l-7.72 7.72c-.78.78-.78 2.05 0 2.83L4 21.41c.39.39.9.59 1.41.59.51 0 1.02-.2 1.41-.59l7.78-7.78 2.81-2.81c.8-.78.8-2.07 0-2.86zM5.41 20L4 18.59l7.72-7.72 1.47 1.35L5.41 20z\"/>\n",
              "  </svg>\n",
              "      </button>\n",
              "      \n",
              "  <style>\n",
              "    .colab-df-container {\n",
              "      display:flex;\n",
              "      flex-wrap:wrap;\n",
              "      gap: 12px;\n",
              "    }\n",
              "\n",
              "    .colab-df-convert {\n",
              "      background-color: #E8F0FE;\n",
              "      border: none;\n",
              "      border-radius: 50%;\n",
              "      cursor: pointer;\n",
              "      display: none;\n",
              "      fill: #1967D2;\n",
              "      height: 32px;\n",
              "      padding: 0 0 0 0;\n",
              "      width: 32px;\n",
              "    }\n",
              "\n",
              "    .colab-df-convert:hover {\n",
              "      background-color: #E2EBFA;\n",
              "      box-shadow: 0px 1px 2px rgba(60, 64, 67, 0.3), 0px 1px 3px 1px rgba(60, 64, 67, 0.15);\n",
              "      fill: #174EA6;\n",
              "    }\n",
              "\n",
              "    [theme=dark] .colab-df-convert {\n",
              "      background-color: #3B4455;\n",
              "      fill: #D2E3FC;\n",
              "    }\n",
              "\n",
              "    [theme=dark] .colab-df-convert:hover {\n",
              "      background-color: #434B5C;\n",
              "      box-shadow: 0px 1px 3px 1px rgba(0, 0, 0, 0.15);\n",
              "      filter: drop-shadow(0px 1px 2px rgba(0, 0, 0, 0.3));\n",
              "      fill: #FFFFFF;\n",
              "    }\n",
              "  </style>\n",
              "\n",
              "      <script>\n",
              "        const buttonEl =\n",
              "          document.querySelector('#df-1877b881-1b3a-44b5-841d-f8332f3f1b43 button.colab-df-convert');\n",
              "        buttonEl.style.display =\n",
              "          google.colab.kernel.accessAllowed ? 'block' : 'none';\n",
              "\n",
              "        async function convertToInteractive(key) {\n",
              "          const element = document.querySelector('#df-1877b881-1b3a-44b5-841d-f8332f3f1b43');\n",
              "          const dataTable =\n",
              "            await google.colab.kernel.invokeFunction('convertToInteractive',\n",
              "                                                     [key], {});\n",
              "          if (!dataTable) return;\n",
              "\n",
              "          const docLinkHtml = 'Like what you see? Visit the ' +\n",
              "            '<a target=\"_blank\" href=https://colab.research.google.com/notebooks/data_table.ipynb>data table notebook</a>'\n",
              "            + ' to learn more about interactive tables.';\n",
              "          element.innerHTML = '';\n",
              "          dataTable['output_type'] = 'display_data';\n",
              "          await google.colab.output.renderOutput(dataTable, element);\n",
              "          const docLink = document.createElement('div');\n",
              "          docLink.innerHTML = docLinkHtml;\n",
              "          element.appendChild(docLink);\n",
              "        }\n",
              "      </script>\n",
              "    </div>\n",
              "  </div>\n",
              "  "
            ]
          },
          "metadata": {},
          "execution_count": 40
        }
      ]
    },
    {
      "cell_type": "markdown",
      "source": [
        "### Building the 2nd model using the randomforest classifier"
      ],
      "metadata": {
        "id": "NRVUY8KLvqJ7"
      }
    },
    {
      "cell_type": "code",
      "source": [
        "rfc = RandomForestClassifier(oob_score=True)           # Calling the randomforest classifier method\n",
        "rfc.fit(X_train,le_y)                                        # fitting the dataset into the fit method for training"
      ],
      "metadata": {
        "colab": {
          "base_uri": "https://localhost:8080/"
        },
        "id": "X__vc5KmAM3I",
        "outputId": "1db3cd01-0fea-4538-f7b4-a289318658f3"
      },
      "execution_count": 44,
      "outputs": [
        {
          "output_type": "execute_result",
          "data": {
            "text/plain": [
              "RandomForestClassifier(oob_score=True)"
            ]
          },
          "metadata": {},
          "execution_count": 44
        }
      ]
    },
    {
      "cell_type": "code",
      "source": [
        "randm_pred = rfc.predict(X_test)                        # Predicting the values\n",
        "randm_pred"
      ],
      "metadata": {
        "colab": {
          "base_uri": "https://localhost:8080/"
        },
        "id": "PZJsDAFgwTvx",
        "outputId": "cb5accd7-2f31-400d-bb2f-e1379fe04036"
      },
      "execution_count": 45,
      "outputs": [
        {
          "output_type": "execute_result",
          "data": {
            "text/plain": [
              "array([3, 5, 5, ..., 1, 1, 1])"
            ]
          },
          "metadata": {},
          "execution_count": 45
        }
      ]
    },
    {
      "cell_type": "code",
      "source": [
        "sns.countplot(rfc.predict(X_test))                    # Plotting the graph of predicted values\n",
        "plt.show()"
      ],
      "metadata": {
        "colab": {
          "base_uri": "https://localhost:8080/",
          "height": 322
        },
        "id": "erDhX_oHAwWK",
        "outputId": "3bcc1e9f-14f0-427b-de0d-54721ab4f0e0"
      },
      "execution_count": 46,
      "outputs": [
        {
          "output_type": "stream",
          "name": "stderr",
          "text": [
            "/usr/local/lib/python3.7/dist-packages/seaborn/_decorators.py:43: FutureWarning: Pass the following variable as a keyword arg: x. From version 0.12, the only valid positional argument will be `data`, and passing other arguments without an explicit keyword will result in an error or misinterpretation.\n",
            "  FutureWarning\n"
          ]
        },
        {
          "output_type": "display_data",
          "data": {
            "text/plain": [
              "<Figure size 432x288 with 1 Axes>"
            ],
            "image/png": "[encoded data removed]"
          },
          "metadata": {
            "needs_background": "light"
          }
        }
      ]
    },
    {
      "cell_type": "markdown",
      "source": [
        "### Building the 3rd model using the GaussianNB classifier"
      ],
      "metadata": {
        "id": "DvbmZnLPxKcw"
      }
    },
    {
      "cell_type": "code",
      "source": [
        "gb = GaussianNB()                        # Calling the GaussianNB method\n",
        "gb.fit(X_train, le_y)                    # Train the model using the train dataset"
      ],
      "metadata": {
        "colab": {
          "base_uri": "https://localhost:8080/"
        },
        "id": "XZSqc-K59DGq",
        "outputId": "1758261e-688e-44f9-bda9-80ea8e95472e"
      },
      "execution_count": 48,
      "outputs": [
        {
          "output_type": "execute_result",
          "data": {
            "text/plain": [
              "GaussianNB()"
            ]
          },
          "metadata": {},
          "execution_count": 48
        }
      ]
    },
    {
      "cell_type": "code",
      "source": [
        "y_pred_prob1 = gb.predict_proba(X_test)    # Predicting the values\n",
        "y_pred_prob1 "
      ],
      "metadata": {
        "colab": {
          "base_uri": "https://localhost:8080/"
        },
        "id": "CEWuxyNe9DJM",
        "outputId": "5374a0e5-07df-4d09-874b-fd7e73375f93"
      },
      "execution_count": 49,
      "outputs": [
        {
          "output_type": "execute_result",
          "data": {
            "text/plain": [
              "array([[1.62061273e-147, 7.67095997e-011, 2.75264563e-006, ...,\n",
              "        2.56627017e-035, 6.47404434e-242, 9.72978070e-240],\n",
              "       [0.00000000e+000, 0.00000000e+000, 0.00000000e+000, ...,\n",
              "        1.33013834e-213, 3.66080449e-004, 0.00000000e+000],\n",
              "       [5.71204064e-295, 0.00000000e+000, 0.00000000e+000, ...,\n",
              "        1.38218709e-262, 9.61320456e-040, 5.38055572e-274],\n",
              "       ...,\n",
              "       [0.00000000e+000, 2.88618980e-031, 9.99996058e-001, ...,\n",
              "        4.98141055e-020, 3.39924951e-154, 0.00000000e+000],\n",
              "       [1.99302975e-058, 9.65274269e-001, 2.43714301e-007, ...,\n",
              "        1.15949178e-038, 2.17304478e-078, 8.70958021e-044],\n",
              "       [1.20395351e-050, 9.96537055e-001, 1.78105708e-003, ...,\n",
              "        4.82130958e-031, 1.25388096e-079, 4.16484700e-051]])"
            ]
          },
          "metadata": {},
          "execution_count": 49
        }
      ]
    },
    {
      "cell_type": "code",
      "source": [
        "pred_prob1 = pd.DataFrame(y_pred_prob1,columns=list(le.classes_))   # Printing the values with classified class\n",
        "pred_prob1"
      ],
      "metadata": {
        "colab": {
          "base_uri": "https://localhost:8080/",
          "height": 641
        },
        "id": "nFmjq3Lf9DLz",
        "outputId": "c4118c7a-d18e-4ae6-c7bd-2f09fe564066"
      },
      "execution_count": 50,
      "outputs": [
        {
          "output_type": "execute_result",
          "data": {
            "text/plain": [
              "              Class_1       Class_2       Class_3       Class_4  \\\n",
              "0       1.620613e-147  7.670960e-11  2.752646e-06  9.999972e-01   \n",
              "1        0.000000e+00  0.000000e+00  0.000000e+00  0.000000e+00   \n",
              "2       5.712041e-295  0.000000e+00  0.000000e+00  0.000000e+00   \n",
              "3       1.231444e-272  1.000000e+00  2.192188e-10  6.433092e-10   \n",
              "4        1.000000e+00  0.000000e+00  0.000000e+00  0.000000e+00   \n",
              "...               ...           ...           ...           ...   \n",
              "144363   3.074203e-05  7.357479e-65  5.794285e-47  7.338734e-61   \n",
              "144364   4.900090e-61  4.006456e-01  4.308495e-02  5.562695e-01   \n",
              "144365   0.000000e+00  2.886190e-31  9.999961e-01  3.942123e-06   \n",
              "144366   1.993030e-58  9.652743e-01  2.437143e-07  3.472549e-02   \n",
              "144367   1.203954e-50  9.965371e-01  1.781057e-03  1.681888e-03   \n",
              "\n",
              "              Class_5        Class_6        Class_7        Class_8  \\\n",
              "0        0.000000e+00  1.833379e-280   2.566270e-35  6.474044e-242   \n",
              "1        0.000000e+00   9.996339e-01  1.330138e-213   3.660804e-04   \n",
              "2        0.000000e+00   1.000000e+00  1.382187e-262   9.613205e-40   \n",
              "3        0.000000e+00  1.105587e-265   5.484370e-85   0.000000e+00   \n",
              "4        0.000000e+00  5.870001e-132   1.906576e-25   1.320758e-32   \n",
              "...               ...            ...            ...            ...   \n",
              "144363  1.096547e-159   7.249458e-12   3.608036e-09   3.688682e-22   \n",
              "144364   0.000000e+00  1.956246e-102   3.750720e-31   6.218092e-95   \n",
              "144365   0.000000e+00  8.905514e-182   4.981411e-20  3.399250e-154   \n",
              "144366  3.792563e-118   2.514118e-75   1.159492e-38   2.173045e-78   \n",
              "144367   0.000000e+00   3.869508e-59   4.821310e-31   1.253881e-79   \n",
              "\n",
              "              Class_9  \n",
              "0       9.729781e-240  \n",
              "1        0.000000e+00  \n",
              "2       5.380556e-274  \n",
              "3       2.604258e-277  \n",
              "4        3.818611e-10  \n",
              "...               ...  \n",
              "144363   9.999693e-01  \n",
              "144364   2.644114e-93  \n",
              "144365   0.000000e+00  \n",
              "144366   8.709580e-44  \n",
              "144367   4.164847e-51  \n",
              "\n",
              "[144368 rows x 9 columns]"
            ],
            "text/html": [
              "\n",
              "  <div id=\"df-85122289-609a-4ab0-b24f-a389c052dd4b\">\n",
              "    <div class=\"colab-df-container\">\n",
              "      <div>\n",
              "<style scoped>\n",
              "    .dataframe tbody tr th:only-of-type {\n",
              "        vertical-align: middle;\n",
              "    }\n",
              "\n",
              "    .dataframe tbody tr th {\n",
              "        vertical-align: top;\n",
              "    }\n",
              "\n",
              "    .dataframe thead th {\n",
              "        text-align: right;\n",
              "    }\n",
              "</style>\n",
              "<table border=\"1\" class=\"dataframe\">\n",
              "  <thead>\n",
              "    <tr style=\"text-align: right;\">\n",
              "      <th></th>\n",
              "      <th>Class_1</th>\n",
              "      <th>Class_2</th>\n",
              "      <th>Class_3</th>\n",
              "      <th>Class_4</th>\n",
              "      <th>Class_5</th>\n",
              "      <th>Class_6</th>\n",
              "      <th>Class_7</th>\n",
              "      <th>Class_8</th>\n",
              "      <th>Class_9</th>\n",
              "    </tr>\n",
              "  </thead>\n",
              "  <tbody>\n",
              "    <tr>\n",
              "      <th>0</th>\n",
              "      <td>1.620613e-147</td>\n",
              "      <td>7.670960e-11</td>\n",
              "      <td>2.752646e-06</td>\n",
              "      <td>9.999972e-01</td>\n",
              "      <td>0.000000e+00</td>\n",
              "      <td>1.833379e-280</td>\n",
              "      <td>2.566270e-35</td>\n",
              "      <td>6.474044e-242</td>\n",
              "      <td>9.729781e-240</td>\n",
              "    </tr>\n",
              "    <tr>\n",
              "      <th>1</th>\n",
              "      <td>0.000000e+00</td>\n",
              "      <td>0.000000e+00</td>\n",
              "      <td>0.000000e+00</td>\n",
              "      <td>0.000000e+00</td>\n",
              "      <td>0.000000e+00</td>\n",
              "      <td>9.996339e-01</td>\n",
              "      <td>1.330138e-213</td>\n",
              "      <td>3.660804e-04</td>\n",
              "      <td>0.000000e+00</td>\n",
              "    </tr>\n",
              "    <tr>\n",
              "      <th>2</th>\n",
              "      <td>5.712041e-295</td>\n",
              "      <td>0.000000e+00</td>\n",
              "      <td>0.000000e+00</td>\n",
              "      <td>0.000000e+00</td>\n",
              "      <td>0.000000e+00</td>\n",
              "      <td>1.000000e+00</td>\n",
              "      <td>1.382187e-262</td>\n",
              "      <td>9.613205e-40</td>\n",
              "      <td>5.380556e-274</td>\n",
              "    </tr>\n",
              "    <tr>\n",
              "      <th>3</th>\n",
              "      <td>1.231444e-272</td>\n",
              "      <td>1.000000e+00</td>\n",
              "      <td>2.192188e-10</td>\n",
              "      <td>6.433092e-10</td>\n",
              "      <td>0.000000e+00</td>\n",
              "      <td>1.105587e-265</td>\n",
              "      <td>5.484370e-85</td>\n",
              "      <td>0.000000e+00</td>\n",
              "      <td>2.604258e-277</td>\n",
              "    </tr>\n",
              "    <tr>\n",
              "      <th>4</th>\n",
              "      <td>1.000000e+00</td>\n",
              "      <td>0.000000e+00</td>\n",
              "      <td>0.000000e+00</td>\n",
              "      <td>0.000000e+00</td>\n",
              "      <td>0.000000e+00</td>\n",
              "      <td>5.870001e-132</td>\n",
              "      <td>1.906576e-25</td>\n",
              "      <td>1.320758e-32</td>\n",
              "      <td>3.818611e-10</td>\n",
              "    </tr>\n",
              "    <tr>\n",
              "      <th>...</th>\n",
              "      <td>...</td>\n",
              "      <td>...</td>\n",
              "      <td>...</td>\n",
              "      <td>...</td>\n",
              "      <td>...</td>\n",
              "      <td>...</td>\n",
              "      <td>...</td>\n",
              "      <td>...</td>\n",
              "      <td>...</td>\n",
              "    </tr>\n",
              "    <tr>\n",
              "      <th>144363</th>\n",
              "      <td>3.074203e-05</td>\n",
              "      <td>7.357479e-65</td>\n",
              "      <td>5.794285e-47</td>\n",
              "      <td>7.338734e-61</td>\n",
              "      <td>1.096547e-159</td>\n",
              "      <td>7.249458e-12</td>\n",
              "      <td>3.608036e-09</td>\n",
              "      <td>3.688682e-22</td>\n",
              "      <td>9.999693e-01</td>\n",
              "    </tr>\n",
              "    <tr>\n",
              "      <th>144364</th>\n",
              "      <td>4.900090e-61</td>\n",
              "      <td>4.006456e-01</td>\n",
              "      <td>4.308495e-02</td>\n",
              "      <td>5.562695e-01</td>\n",
              "      <td>0.000000e+00</td>\n",
              "      <td>1.956246e-102</td>\n",
              "      <td>3.750720e-31</td>\n",
              "      <td>6.218092e-95</td>\n",
              "      <td>2.644114e-93</td>\n",
              "    </tr>\n",
              "    <tr>\n",
              "      <th>144365</th>\n",
              "      <td>0.000000e+00</td>\n",
              "      <td>2.886190e-31</td>\n",
              "      <td>9.999961e-01</td>\n",
              "      <td>3.942123e-06</td>\n",
              "      <td>0.000000e+00</td>\n",
              "      <td>8.905514e-182</td>\n",
              "      <td>4.981411e-20</td>\n",
              "      <td>3.399250e-154</td>\n",
              "      <td>0.000000e+00</td>\n",
              "    </tr>\n",
              "    <tr>\n",
              "      <th>144366</th>\n",
              "      <td>1.993030e-58</td>\n",
              "      <td>9.652743e-01</td>\n",
              "      <td>2.437143e-07</td>\n",
              "      <td>3.472549e-02</td>\n",
              "      <td>3.792563e-118</td>\n",
              "      <td>2.514118e-75</td>\n",
              "      <td>1.159492e-38</td>\n",
              "      <td>2.173045e-78</td>\n",
              "      <td>8.709580e-44</td>\n",
              "    </tr>\n",
              "    <tr>\n",
              "      <th>144367</th>\n",
              "      <td>1.203954e-50</td>\n",
              "      <td>9.965371e-01</td>\n",
              "      <td>1.781057e-03</td>\n",
              "      <td>1.681888e-03</td>\n",
              "      <td>0.000000e+00</td>\n",
              "      <td>3.869508e-59</td>\n",
              "      <td>4.821310e-31</td>\n",
              "      <td>1.253881e-79</td>\n",
              "      <td>4.164847e-51</td>\n",
              "    </tr>\n",
              "  </tbody>\n",
              "</table>\n",
              "<p>144368 rows × 9 columns</p>\n",
              "</div>\n",
              "      <button class=\"colab-df-convert\" onclick=\"convertToInteractive('df-85122289-609a-4ab0-b24f-a389c052dd4b')\"\n",
              "              title=\"Convert this dataframe to an interactive table.\"\n",
              "              style=\"display:none;\">\n",
              "        \n",
              "  <svg xmlns=\"http://www.w3.org/2000/svg\" height=\"24px\"viewBox=\"0 0 24 24\"\n",
              "       width=\"24px\">\n",
              "    <path d=\"M0 0h24v24H0V0z\" fill=\"none\"/>\n",
              "    <path d=\"M18.56 5.44l.94 2.06.94-2.06 2.06-.94-2.06-.94-.94-2.06-.94 2.06-2.06.94zm-11 1L8.5 8.5l.94-2.06 2.06-.94-2.06-.94L8.5 2.5l-.94 2.06-2.06.94zm10 10l.94 2.06.94-2.06 2.06-.94-2.06-.94-.94-2.06-.94 2.06-2.06.94z\"/><path d=\"M17.41 7.96l-1.37-1.37c-.4-.4-.92-.59-1.43-.59-.52 0-1.04.2-1.43.59L10.3 9.45l-7.72 7.72c-.78.78-.78 2.05 0 2.83L4 21.41c.39.39.9.59 1.41.59.51 0 1.02-.2 1.41-.59l7.78-7.78 2.81-2.81c.8-.78.8-2.07 0-2.86zM5.41 20L4 18.59l7.72-7.72 1.47 1.35L5.41 20z\"/>\n",
              "  </svg>\n",
              "      </button>\n",
              "      \n",
              "  <style>\n",
              "    .colab-df-container {\n",
              "      display:flex;\n",
              "      flex-wrap:wrap;\n",
              "      gap: 12px;\n",
              "    }\n",
              "\n",
              "    .colab-df-convert {\n",
              "      background-color: #E8F0FE;\n",
              "      border: none;\n",
              "      border-radius: 50%;\n",
              "      cursor: pointer;\n",
              "      display: none;\n",
              "      fill: #1967D2;\n",
              "      height: 32px;\n",
              "      padding: 0 0 0 0;\n",
              "      width: 32px;\n",
              "    }\n",
              "\n",
              "    .colab-df-convert:hover {\n",
              "      background-color: #E2EBFA;\n",
              "      box-shadow: 0px 1px 2px rgba(60, 64, 67, 0.3), 0px 1px 3px 1px rgba(60, 64, 67, 0.15);\n",
              "      fill: #174EA6;\n",
              "    }\n",
              "\n",
              "    [theme=dark] .colab-df-convert {\n",
              "      background-color: #3B4455;\n",
              "      fill: #D2E3FC;\n",
              "    }\n",
              "\n",
              "    [theme=dark] .colab-df-convert:hover {\n",
              "      background-color: #434B5C;\n",
              "      box-shadow: 0px 1px 3px 1px rgba(0, 0, 0, 0.15);\n",
              "      filter: drop-shadow(0px 1px 2px rgba(0, 0, 0, 0.3));\n",
              "      fill: #FFFFFF;\n",
              "    }\n",
              "  </style>\n",
              "\n",
              "      <script>\n",
              "        const buttonEl =\n",
              "          document.querySelector('#df-85122289-609a-4ab0-b24f-a389c052dd4b button.colab-df-convert');\n",
              "        buttonEl.style.display =\n",
              "          google.colab.kernel.accessAllowed ? 'block' : 'none';\n",
              "\n",
              "        async function convertToInteractive(key) {\n",
              "          const element = document.querySelector('#df-85122289-609a-4ab0-b24f-a389c052dd4b');\n",
              "          const dataTable =\n",
              "            await google.colab.kernel.invokeFunction('convertToInteractive',\n",
              "                                                     [key], {});\n",
              "          if (!dataTable) return;\n",
              "\n",
              "          const docLinkHtml = 'Like what you see? Visit the ' +\n",
              "            '<a target=\"_blank\" href=https://colab.research.google.com/notebooks/data_table.ipynb>data table notebook</a>'\n",
              "            + ' to learn more about interactive tables.';\n",
              "          element.innerHTML = '';\n",
              "          dataTable['output_type'] = 'display_data';\n",
              "          await google.colab.output.renderOutput(dataTable, element);\n",
              "          const docLink = document.createElement('div');\n",
              "          docLink.innerHTML = docLinkHtml;\n",
              "          element.appendChild(docLink);\n",
              "        }\n",
              "      </script>\n",
              "    </div>\n",
              "  </div>\n",
              "  "
            ]
          },
          "metadata": {},
          "execution_count": 50
        }
      ]
    }
  ]
}